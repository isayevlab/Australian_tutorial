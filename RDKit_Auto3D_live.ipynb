{
 "cells": [
  {
   "cell_type": "markdown",
   "id": "59e861ad",
   "metadata": {},
   "source": [
    "# 1. Setting Up"
   ]
  },
  {
   "cell_type": "code",
   "execution_count": null,
   "id": "62ef411b",
   "metadata": {},
   "outputs": [],
   "source": [
    "import rdkit\n",
    "print(rdkit.__version__)\n",
    "\n",
    "import Auto3D\n",
    "print(Auto3D.__version__)\n",
    "import shutil\n",
    "# import openbabel\n",
    "# import yaml\n",
    "# import torch"
   ]
  },
  {
   "cell_type": "markdown",
   "id": "6e4aca67",
   "metadata": {},
   "source": [
    "# 2. RDKit"
   ]
  },
  {
   "cell_type": "markdown",
   "id": "6c5ed286",
   "metadata": {},
   "source": [
    "## 2.1 Reading and writing molecules\n",
    "RDKit can read a single molecule from a SMILES string, or a set of molecules from a file. The file format can be SDF, Mol, etc.\n",
    "\n",
    "RDKit can write molecules into SMILES, or blocks of text with different formats. This include XYZ, SDF and Mol. "
   ]
  },
  {
   "cell_type": "code",
   "execution_count": null,
   "id": "ff464419",
   "metadata": {},
   "outputs": [],
   "source": [
    "from rdkit import Chem\n",
    "from rdkit.Chem import rdmolfiles"
   ]
  },
  {
   "cell_type": "code",
   "execution_count": null,
   "id": "0ae16bbc",
   "metadata": {},
   "outputs": [],
   "source": [
    "#Reading Molecule(s)\n",
    "methel_benzene = Chem.MolFromSmiles('Cc1ccccc1')  #read from SMILES\n",
    "methel_benzene"
   ]
  },
  {
   "cell_type": "code",
   "execution_count": null,
   "id": "991edf63",
   "metadata": {},
   "outputs": [],
   "source": [
    "mols = Chem.SmilesMolSupplier(\"files/DA.smi\", titleLine=False)\n",
    "for mol in mols:\n",
    "    print(mol.GetProp(\"_Name\"), mol.GetNumAtoms())"
   ]
  },
  {
   "cell_type": "code",
   "execution_count": null,
   "id": "4d6d0cd5",
   "metadata": {},
   "outputs": [],
   "source": [
    "mols = Chem.SDMolSupplier(\"files/DA.sdf\")\n",
    "for mol in mols:\n",
    "    print(mol.GetProp(\"_Name\"), mol.GetNumAtoms(), mol.GetProp(\"E_tot\"))"
   ]
  },
  {
   "cell_type": "code",
   "execution_count": null,
   "id": "5d2a5143",
   "metadata": {},
   "outputs": [],
   "source": [
    "#Writing Molecules(s)\n",
    "mols = Chem.SDMolSupplier(\"files/DA.sdf\", removeHs=False)\n",
    "xyz_blocks = []\n",
    "for mol in mols:\n",
    "    xyz_blocks.append(Chem.MolToXYZBlock(mol))\n",
    "with open(\"files/DA.xyz\", \"w\") as f:\n",
    "    for block in xyz_blocks:\n",
    "        f.write(block)"
   ]
  },
  {
   "cell_type": "code",
   "execution_count": null,
   "id": "48613623",
   "metadata": {},
   "outputs": [],
   "source": [
    "mols = Chem.SDMolSupplier(\"files/DA.sdf\")\n",
    "for mol in mols:\n",
    "    print(Chem.MolToSmiles(mol))"
   ]
  },
  {
   "cell_type": "markdown",
   "id": "62b2c06d",
   "metadata": {},
   "source": [
    "## 2.2 Visalize molecues\n",
    "\n",
    "RDkit can visualize an individual molecule, a list of molecules or even molecles in a dataframe."
   ]
  },
  {
   "cell_type": "code",
   "execution_count": null,
   "id": "26f6752f",
   "metadata": {},
   "outputs": [],
   "source": [
    "from rdkit.Chem import Draw\n",
    "import pandas as pd\n",
    "from rdkit.Chem import PandasTools"
   ]
  },
  {
   "cell_type": "code",
   "execution_count": null,
   "id": "6d3019cf",
   "metadata": {},
   "outputs": [],
   "source": [
    "#Visualization Molecule(s)\n",
    "mol"
   ]
  },
  {
   "cell_type": "code",
   "execution_count": null,
   "id": "81705dd5",
   "metadata": {},
   "outputs": [],
   "source": [
    "#prepare a list of molecules\n",
    "df = pd.read_csv(\"files/20_mols.csv\")\n",
    "df.head()"
   ]
  },
  {
   "cell_type": "code",
   "execution_count": null,
   "id": "88e18bc8",
   "metadata": {},
   "outputs": [],
   "source": [
    "smiles = [smi for smi in df[\"acids\"]]\n",
    "mols = [Chem.MolFromSmiles(smi) for smi in smiles]\n",
    "Draw.MolsToGridImage(mols, molsPerRow=5)"
   ]
  },
  {
   "cell_type": "code",
   "execution_count": null,
   "id": "40363d1e",
   "metadata": {},
   "outputs": [],
   "source": [
    "PandasTools.AddMoleculeColumnToFrame(df, smilesCol=\"acids\", molCol=\"acid_structure\")\n",
    "df.head()"
   ]
  },
  {
   "cell_type": "markdown",
   "id": "8d50d7ef",
   "metadata": {},
   "source": [
    "## 2.3 Getting information from molecules\n",
    "We could get basic atomic, bond-level or molecule level information from molecules."
   ]
  },
  {
   "cell_type": "code",
   "execution_count": null,
   "id": "3434007a",
   "metadata": {},
   "outputs": [],
   "source": [
    "#Get Molecular & Atomic information\n",
    "mol  = Chem.MolFromSmiles(\"C[C@@H](O)c1cccc(-c2ccc(OCC(=O)O)cc2)n1\")\n",
    "print(\"# of conformers: \", mol.GetNumConformers())\n",
    "print(\"# of atoms: \", mol.GetNumAtoms())\n",
    "print(\"# of bonds: \", mol.GetNumBonds())\n",
    "print(\"# of heavy atoms: \", mol.GetNumHeavyAtoms())\n",
    "print(\"# of aromatic atoms: \", list(mol.GetAromaticAtoms()))"
   ]
  },
  {
   "cell_type": "code",
   "execution_count": null,
   "id": "fc75e61b",
   "metadata": {},
   "outputs": [],
   "source": [
    "#get atomic information\n",
    "atoms = mol.GetAtoms()\n",
    "for atom in atoms:\n",
    "    print(atom.GetSymbol(), atom.GetAtomicNum(), atom.GetIdx(), atom.GetTotalNumHs(), atom.GetFormalCharge(), atom.GetHybridization())"
   ]
  },
  {
   "cell_type": "code",
   "execution_count": null,
   "id": "33e48e5f",
   "metadata": {},
   "outputs": [],
   "source": [
    "# get bond information\n",
    "bonds = mol.GetBonds()\n",
    "for bond in bonds:\n",
    "    print(bond.GetIdx(), bond.GetBeginAtomIdx(), bond.GetEndAtomIdx(), bond.GetBondType(), bond.GetIsAromatic())"
   ]
  },
  {
   "cell_type": "markdown",
   "id": "867636da",
   "metadata": {},
   "source": [
    "## 2.4 Getting descriptors from molecules\n",
    "RDkit can give us molecular fingerprints or descriptors, which are numerical molecular representation that many downstream modeling applications rely on."
   ]
  },
  {
   "cell_type": "code",
   "execution_count": null,
   "id": "d3eb0d88",
   "metadata": {},
   "outputs": [],
   "source": [
    "# Descriptors (fingerprint, similarity, other molecular properties) Phil\n",
    "import numpy as np\n",
    "from rdkit.Chem import Descriptors\n",
    "from rdkit.Chem import rdMolDescriptors\n",
    "from rdkit.ML.Descriptors import MoleculeDescriptors\n",
    "from rdkit.Chem.Draw import SimilarityMaps\n",
    "from rdkit.Chem import AllChem"
   ]
  },
  {
   "cell_type": "code",
   "execution_count": null,
   "id": "467b4c2f",
   "metadata": {},
   "outputs": [],
   "source": [
    "print(\"molecular weight: %.2f\" % (Descriptors.MolWt(mol)) )\n",
    "print(\"TPSA: %s\" % (Descriptors.TPSA(mol)))  #topological polar surface area\n",
    "print(\"LogP: %.2f\" % (Descriptors.MolLogP(mol)))"
   ]
  },
  {
   "cell_type": "code",
   "execution_count": null,
   "id": "bc916884",
   "metadata": {},
   "outputs": [],
   "source": [
    "#visualize atomic contribution into the LogP value\n",
    "contribs = rdMolDescriptors._CalcCrippenContribs(mol)\n",
    "img = SimilarityMaps.GetSimilarityMapFromWeights(mol, [x for x, y in contribs], colorMap=\"jet\", contourLines=10)"
   ]
  },
  {
   "cell_type": "code",
   "execution_count": null,
   "id": "97ba4185",
   "metadata": {},
   "outputs": [],
   "source": [
    "# calculate all descriptors\n",
    "num_descriptors = [x[0] for x in Descriptors._descList]\n",
    "calc = MoleculeDescriptors.MolecularDescriptorCalculator(num_descriptors)\n",
    "print(len(num_descriptors))"
   ]
  },
  {
   "cell_type": "code",
   "execution_count": null,
   "id": "b32a585d",
   "metadata": {},
   "outputs": [],
   "source": [
    "all_descriptors = calc.CalcDescriptors(mol)\n",
    "print(all_descriptors)"
   ]
  },
  {
   "cell_type": "code",
   "execution_count": null,
   "id": "76bc2ad8",
   "metadata": {},
   "outputs": [],
   "source": [
    "#fingerprints\n",
    "bi = {}\n",
    "MFP = AllChem.GetMorganFingerprintAsBitVect(mol, radius=2, nBits=1024, bitInfo=bi)\n",
    "print(MFP)"
   ]
  },
  {
   "cell_type": "code",
   "execution_count": null,
   "id": "2109a566",
   "metadata": {},
   "outputs": [],
   "source": [
    "MFP.ToBitString()"
   ]
  },
  {
   "cell_type": "code",
   "execution_count": null,
   "id": "815e7fca",
   "metadata": {},
   "outputs": [],
   "source": [
    "MFP2 = np.array(MFP)\n",
    "MFP2"
   ]
  },
  {
   "cell_type": "code",
   "execution_count": null,
   "id": "8fe0a821",
   "metadata": {},
   "outputs": [],
   "source": [
    "# meaning of the bits\n",
    "mol"
   ]
  },
  {
   "cell_type": "code",
   "execution_count": null,
   "id": "2c912eb0",
   "metadata": {},
   "outputs": [],
   "source": [
    "MFP2_svg = Draw.DrawMorganBit(mol, 15, bi, useSVG=True)\n",
    "MFP2_svg"
   ]
  },
  {
   "cell_type": "code",
   "execution_count": null,
   "id": "1e657252",
   "metadata": {},
   "outputs": [],
   "source": [
    "rdkbi = {}\n",
    "rdkfp = Chem.RDKFingerprint(mol, maxPath=5, bitInfo=rdkbi,fpSize=512)\n",
    "rdk_svg = Draw.DrawRDKitBit(mol, 1, rdkbi, useSVG=True)\n",
    "rdk_svg"
   ]
  },
  {
   "cell_type": "markdown",
   "id": "7c35147b",
   "metadata": {},
   "source": [
    "## 2.5 Similarity comparasion using fingerprints"
   ]
  },
  {
   "cell_type": "code",
   "execution_count": null,
   "id": "b1b94c57",
   "metadata": {},
   "outputs": [],
   "source": [
    "#similarity\n",
    "mol  = Chem.MolFromSmiles(\"C[C@@H](O)c1cccc(-c2ccc(OCC(=O)O)cc2)n1\")\n",
    "MFP = np.array(AllChem.GetMorganFingerprintAsBitVect(mol, radius=2, nBits=1024, bitInfo=bi))\n",
    "mol"
   ]
  },
  {
   "cell_type": "code",
   "execution_count": null,
   "id": "eb5d3518",
   "metadata": {},
   "outputs": [],
   "source": [
    "mol2  = Chem.MolFromSmiles(\"C[C@@H](O)c1cccc(-c2ccc(NCC(=O)OCCC)cc2)n1\")\n",
    "MFP2 = np.array(AllChem.GetMorganFingerprintAsBitVect(mol2, radius=2, nBits=1024, bitInfo=bi))\n",
    "mol2"
   ]
  },
  {
   "cell_type": "code",
   "execution_count": null,
   "id": "9c9cdaa9",
   "metadata": {},
   "outputs": [],
   "source": [
    "similarity12 = round(np.dot(MFP, MFP2)/(np.linalg.norm(MFP)*np.linalg.norm(MFP2)), 3)\n",
    "print(similarity12)"
   ]
  },
  {
   "cell_type": "markdown",
   "id": "26b5a942",
   "metadata": {},
   "source": [
    "## 2.6 Scafold match"
   ]
  },
  {
   "cell_type": "code",
   "execution_count": null,
   "id": "a839c791",
   "metadata": {},
   "outputs": [],
   "source": [
    "#substracture search\n",
    "df = pd.read_csv(\"files/20_mols.csv\")\n",
    "df.head()\n",
    "\n",
    "smiles = [smi for smi in df[\"acids\"]]\n",
    "mols = [Chem.MolFromSmiles(smi) for smi in smiles]\n",
    "Draw.MolsToGridImage(mols, molsPerRow=5)"
   ]
  },
  {
   "cell_type": "code",
   "execution_count": null,
   "id": "dec8eb6a",
   "metadata": {},
   "outputs": [],
   "source": [
    "substract= Chem.MolFromSmarts('[*r6R1]1[cR2]2[cR1][cR1][cR1][cR1][cR2]2[*r6R1][*r6R1][*r6R1]1')\n",
    "substract"
   ]
  },
  {
   "cell_type": "code",
   "execution_count": null,
   "id": "4e3e9f64",
   "metadata": {},
   "outputs": [],
   "source": [
    "mols_subset = [mol for mol in mols if mol.HasSubstructMatch(substract)]\n",
    "Draw.MolsToGridImage(mols_subset, molsPerRow=5)"
   ]
  },
  {
   "cell_type": "markdown",
   "id": "20f2d12d",
   "metadata": {},
   "source": [
    "# 3. Auto3D\n",
    "[Auto3D](https://github.com/isayevlab/Auto3D_pkg) is a Python-based package for generating low-energy conformers from SMILES. It automatizes the stereoisomer enumeration and duplicate filtering process, 3D building process, fast geometry optimization and ranking process using ANI and AIMNet neural network atomistic potentials."
   ]
  },
  {
   "cell_type": "code",
   "execution_count": null,
   "id": "2b3335f3",
   "metadata": {},
   "outputs": [],
   "source": [
    "from Auto3D.auto3D import options, main"
   ]
  },
  {
   "cell_type": "markdown",
   "id": "5a587daa",
   "metadata": {},
   "source": [
    "## 3.1 Generate low-energy 3D structures with Auto3D"
   ]
  },
  {
   "cell_type": "code",
   "execution_count": null,
   "id": "6e493c45",
   "metadata": {},
   "outputs": [],
   "source": [
    "if __name__ == \"__main__\":\n",
    "    input_path = \"files/DA.smi\"\n",
    "    args = options(input_path, k=1, use_gpu=False, verbose=True)   #args specify the parameters for Auto3D \n",
    "    out = main(args)            #main acceps the parameters and run Auto3D"
   ]
  },
  {
   "cell_type": "markdown",
   "id": "d4faa0f7",
   "metadata": {},
   "source": [
    "## 3.2 Calculate thermodynamic properties with the 3D structures"
   ]
  },
  {
   "cell_type": "code",
   "execution_count": null,
   "id": "6a1869d5",
   "metadata": {},
   "outputs": [],
   "source": [
    "from Auto3D.ASE.thermo import calc_thermo"
   ]
  },
  {
   "cell_type": "code",
   "execution_count": null,
   "id": "9db79f3b",
   "metadata": {
    "scrolled": true
   },
   "outputs": [],
   "source": [
    "out = \"files/DA.sdf\"\n",
    "\n",
    "out_thermo = calc_thermo(out, \"AIMNET\", opt_tol=0.003)\n",
    "print(out_thermo)  #enthalpy, entropy and Gibbs free energy are stored in the SDF file"
   ]
  },
  {
   "cell_type": "markdown",
   "id": "519d1055",
   "metadata": {},
   "source": [
    "Auto3D also provides wrapper function for single point energy calculation, geometry optimization, etc. More examples can be found in the GitHub site: https://github.com/isayevlab/Auto3D_pkg/tree/main/example"
   ]
  },
  {
   "cell_type": "markdown",
   "id": "c3d27bca",
   "metadata": {},
   "source": [
    "# 4. In-class Practice"
   ]
  },
  {
   "cell_type": "markdown",
   "id": "f3cb64ed",
   "metadata": {},
   "source": [
    "In the following practice, we are going to calculate the electronic reaction energy for the following Diels-Alder reaction. The electronic reaction energy $\\Delta E^{e}$ is defined as the difference between the electronic energy of the product ($E^e_{product}$) and the reactants ($E^e_{diene}$ and $E^e_{dieneophile}$):\n",
    "$$\\Delta E^{e} = E^e_{product} - E^e_{diene} - E^e_{dieneophile}  (1)$$\n",
    "You are given a file (`files/DS.smi`) containing the SMILES for the reactants and product. To calculate the electronic reaction energy, you need to find the 3D structures and electronic energies for each of the SMILES. \n",
    "\n",
    "- *Hint1: Remember how we transformed SMILES into 3D structures in SDF file in section `3.1`;*\n",
    "- *Hint2: Remember how we extract molecular property with RDKit in section `2`.*\n",
    "\n",
    "\n",
    "![](practice.png)"
   ]
  },
  {
   "cell_type": "markdown",
   "id": "36f10ebd",
   "metadata": {},
   "source": [
    "**Bonus question**: can you calculate the reaction Gibbs free energy ($\\Delta G$)? You already got the 3D structures and electronic energies in the first part of the practice. The reaction Gibbs free energy $\\Delta G$ is defined as\n",
    "$$\\Delta G = G_{product} - G_{diene} - G_{dieneophile}  (2)$$\n",
    "Remember that we could calculate Gibbs free energy for each molecule in section `3.2`."
   ]
  },
  {
   "cell_type": "markdown",
   "id": "bc80f185",
   "metadata": {},
   "source": [
    "# 5. Reference\n",
    "\n",
    "- https://www.rdkit.org/docs/\n",
    "- https://www.rdkit.org/docs/GettingStartedInPython.html\n",
    "- https://www.rdkit.org/docs/Cookbook.html\n",
    "- https://github.com/isayevlab/Auto3D_pkg\n",
    "- https://github.com/isayevlab/Auto3D_pkg/tree/main/example\n",
    "- https://doi.org/10.1021/acs.jcim.2c00817"
   ]
  },
  {
   "cell_type": "code",
   "execution_count": null,
   "id": "8b7fafa0",
   "metadata": {},
   "outputs": [],
   "source": []
  }
 ],
 "metadata": {
  "kernelspec": {
   "display_name": "Python 3 (ipykernel)",
   "language": "python",
   "name": "python3"
  },
  "language_info": {
   "codemirror_mode": {
    "name": "ipython",
    "version": 3
   },
   "file_extension": ".py",
   "mimetype": "text/x-python",
   "name": "python",
   "nbconvert_exporter": "python",
   "pygments_lexer": "ipython3",
   "version": "3.9.13"
  },
  "vscode": {
   "interpreter": {
    "hash": "61b4062b24dfb1010f420dad5aa3bd73a4d2af47d0ec44eafec465a35a9d7239"
   }
  }
 },
 "nbformat": 4,
 "nbformat_minor": 5
}
